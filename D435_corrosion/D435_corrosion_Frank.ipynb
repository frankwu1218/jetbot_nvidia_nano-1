{
 "cells": [
  {
   "cell_type": "code",
   "execution_count": null,
   "id": "43ca49f1-47b5-4898-b87c-dce5cb84bdeb",
   "metadata": {},
   "outputs": [],
   "source": [
    "#using intel D435 realsense to test image_corrosion_seg\n",
    "#model: corrosionsegment_trt.pth(20.3MB)\n",
    "#output: [colorframe_image, seg_image]\n",
    "#last updated: 11/10/2021"
   ]
  },
  {
   "cell_type": "code",
   "execution_count": null,
   "id": "d942c59c-f0d1-4059-90a5-69122c49c337",
   "metadata": {},
   "outputs": [],
   "source": [
    "#load the model\n",
    "from torch2trt import TRTModule\n",
    "import torch\n",
    "model_trt = TRTModule()\n",
    "model_trt.load_state_dict(torch.load('corrosionsegment_trt.pth'))"
   ]
  },
  {
   "cell_type": "code",
   "execution_count": null,
   "id": "bfdc26ee-a459-4a2f-8487-e4212e31b3ce",
   "metadata": {},
   "outputs": [],
   "source": [
    "#import module for display\n",
    "from IPython.display import display\n",
    "import ipywidgets.widgets as widgets\n",
    "from jetbot import bgr8_to_jpeg\n",
    "import ipywidgets"
   ]
  },
  {
   "cell_type": "code",
   "execution_count": 1,
   "id": "ae1881e7-fd8d-4b2c-ad1b-bbd2e9e5d276",
   "metadata": {},
   "outputs": [],
   "source": [
    "#import key function.py\n",
    "from D435_corrosion_util import *"
   ]
  },
  {
   "cell_type": "code",
   "execution_count": null,
   "id": "07516fdf-3392-4c4b-8624-4d295ae6f70f",
   "metadata": {},
   "outputs": [],
   "source": [
    "#display and create the image boxes\n",
    "seg_image = ipywidgets.Image(format='jpeg', width=128, height=128)\n",
    "#depthframe_image = ipywidgets.Image(format='jpeg', width=128, height=128)\n",
    "colorframe_image = ipywidgets.Image(format='jpeg', width=128, height=128)\n",
    "#display(widgets.VBox([widgets.HBox([depthframe_image, colorframe_image, seg_image]),]))\n",
    "display(widgets.VBox([widgets.HBox([colorframe_image, seg_image]),]))"
   ]
  },
  {
   "cell_type": "code",
   "execution_count": null,
   "id": "903598b7-6db5-4cd7-a537-c84b0ad4b282",
   "metadata": {},
   "outputs": [],
   "source": [
    "#load images from D435\n",
    "dc = DepthCamera()\n",
    "#ret, depth_frame, color_frame = dc.get_frame()\n",
    "ret, color_frame = dc.get_frame()"
   ]
  },
  {
   "cell_type": "code",
   "execution_count": null,
   "id": "031f09ad-7539-43e7-97fa-5c0c7298539b",
   "metadata": {},
   "outputs": [],
   "source": [
    "#process for image segmentation of corrosion\n",
    "import os\n",
    "import cv2\n",
    "import ipywidgets as widgets\n",
    "from IPython.display import display\n",
    "from PIL import Image\n",
    "from matplotlib import pyplot as plt\n",
    "\n",
    "#from IPython.display import clear_output \n",
    "\n",
    "import random\n",
    "from matplotlib.pyplot import figure, draw, pause\n",
    "import numpy\n",
    "%matplotlib inline \n",
    "\n",
    "#execution for segmentation\n",
    "def execute(change):\n",
    "    image = change['new']\n",
    "    #ret, depth_frame, color_frame = dc.get_frame()\n",
    "    ret, color_frame = dc.get_frame()\n",
    "    output = model_trt(preprocess(color_frame).half())[0].detach().cpu().float().numpy()\n",
    "    im=((output.squeeze())>0.6).astype(int)\n",
    "    mask=decode_segmap(im)\n",
    "    seg_image.value = bgr8_to_jpeg(mask)   \n",
    "    # plt.imshow(im, cmap=\"Blues\")\n",
    "    # plt.show()\n",
    "    # clear_output(wait=True)\n",
    "\n",
    "    #image of D435 generation\n",
    "    #depthframe_image.value = bgr8_to_jpeg(depth_frame)\n",
    "    colorframe_image.value = bgr8_to_jpeg(color_frame)"
   ]
  },
  {
   "cell_type": "code",
   "execution_count": null,
   "id": "cbd5712b-7ce0-4498-ae35-b0ab56f353ff",
   "metadata": {},
   "outputs": [],
   "source": [
    "#run real time of the images\n",
    "while True:\n",
    "    mask = execute({'new': color_frame})"
   ]
  },
  {
   "cell_type": "code",
   "execution_count": null,
   "id": "a22bad05-0402-4ddd-9e05-347239278733",
   "metadata": {},
   "outputs": [],
   "source": []
  },
  {
   "cell_type": "code",
   "execution_count": null,
   "id": "179da33f-ef42-4f1a-a4cb-476a26929201",
   "metadata": {},
   "outputs": [],
   "source": []
  },
  {
   "cell_type": "code",
   "execution_count": null,
   "id": "7027a54e-2cde-4fcd-bf17-49e9d15b061e",
   "metadata": {},
   "outputs": [],
   "source": []
  },
  {
   "cell_type": "code",
   "execution_count": null,
   "id": "900cc665-24d4-4c33-b048-6396fd48acc0",
   "metadata": {},
   "outputs": [],
   "source": [
    "#The following is the test"
   ]
  },
  {
   "cell_type": "code",
   "execution_count": null,
   "id": "9ef5524a-e484-4ca1-b38f-38c58fe8c975",
   "metadata": {},
   "outputs": [],
   "source": [
    "#print(color_frame)\n",
    "print(color_frame.size)\n",
    "print(color_frame.shape)\n",
    "print(color_frame.dtype)\n",
    "print(color_frame.astype)\n",
    "print(color_frame.ctypes)\n",
    "print(color_frame.ndim)"
   ]
  },
  {
   "cell_type": "code",
   "execution_count": null,
   "id": "d2dc8464-edba-42a4-a7db-36e345da9777",
   "metadata": {},
   "outputs": [],
   "source": [
    "plt.savefig(\"color_frame.png\")"
   ]
  },
  {
   "cell_type": "code",
   "execution_count": null,
   "id": "69f90dd3-74da-478a-b4d5-f4627bf8ec3a",
   "metadata": {},
   "outputs": [],
   "source": [
    "# #numpy.ndarray\n",
    "# print(color_frame.size)\n",
    "# print(color_frame.shape)\n",
    "# print(color_frame.dtype)\n",
    "# print(color_frame.astype)\n",
    "# print(color_frame.ctypes)\n",
    "# print(color_frame.ndim)"
   ]
  },
  {
   "cell_type": "code",
   "execution_count": null,
   "id": "c97f6ed8-1895-4044-bea0-7b9a3d923de7",
   "metadata": {},
   "outputs": [],
   "source": [
    "\n",
    "# from jetbot import Camera\n",
    "# color_frame.observe(execute, names='value')"
   ]
  },
  {
   "cell_type": "code",
   "execution_count": null,
   "id": "7f5fe776-0c87-4482-bbe6-ef21b1ffe079",
   "metadata": {},
   "outputs": [],
   "source": []
  },
  {
   "cell_type": "code",
   "execution_count": null,
   "id": "d9a5b3e2-b9fb-4aeb-b8c5-fb00edd988a0",
   "metadata": {},
   "outputs": [],
   "source": [
    "import cv2, PIL\n",
    "import numpy as np\n",
    "import torchvision\n",
    "import torchvision.transforms as T\n",
    "\n",
    "device = torch.device('cuda')\n",
    "print(device)\n",
    "mean = 255.0 * np.array([0.485, 0.456, 0.406])\n",
    "stdev = 255.0 * np.array([0.229, 0.224, 0.225])\n",
    "\n",
    "normalize = torchvision.transforms.Normalize(mean, stdev)\n",
    "\n",
    "def preprocess(image):\n",
    "    x = image\n",
    "    # x = cv2.resize(x, (128, 128))\n",
    "#    x = cv2.center_crop(x, (224, 224))\n",
    "    # x = cv2.cvtColor(x, cv2.COLOR_BGR2RGB)\n",
    "    x = x.transpose((2, 0, 1))\n",
    "    x = torch.from_numpy(x).float()\n",
    "    x = normalize(x)\n",
    "    x = x.to(device)\n",
    "    x = x[None, ...]\n",
    "    return x\n",
    "\n",
    "#torch_output = model(preprocess(image)).half()[0].detach().cpu().float().numpy()\n",
    "trt_output = model_trt(preprocess(image)).half()[0].detach().cpu().float().numpy()\n",
    "#print(torch_output.shape)\n",
    "print(trt_output.shape)\n",
    "# image_2 = preprocess(image)"
   ]
  },
  {
   "cell_type": "code",
   "execution_count": null,
   "id": "9059ef98-ee9f-42bd-bbc8-e451a7aa8cd2",
   "metadata": {},
   "outputs": [],
   "source": [
    "def load_one_image(image_path, image_size=128):\n",
    "\n",
    "    image = cv2.imread(image_path)\n",
    "    image = cv2.cvtColor(image, cv2.COLOR_BGR2RGB)\n",
    "    image = cv2.resize(image , (image_size , image_size)) # resizing before inserting to the network\n",
    "    \n",
    "    return image\n",
    "\n",
    "image = load_one_image(\"1636511550059.png\")"
   ]
  },
  {
   "cell_type": "code",
   "execution_count": null,
   "id": "bd4e1c2b-add8-482b-85e2-c9be9fe39683",
   "metadata": {},
   "outputs": [],
   "source": [
    "from matplotlib import pyplot as plt\n",
    "%matplotlib inline \n",
    "\n",
    "\n",
    "o = trt_output.squeeze()\n",
    "o = o > 0.6\n",
    "o = o.astype(int)\n",
    "print(o.shape)\n",
    "plt.imshow(o, cmap=\"Blues\")\n",
    "plt.show()"
   ]
  },
  {
   "cell_type": "code",
   "execution_count": null,
   "id": "9765bb2c-681e-429f-b15b-4d9bde0921e3",
   "metadata": {},
   "outputs": [],
   "source": []
  }
 ],
 "metadata": {
  "kernelspec": {
   "display_name": "Python 3",
   "language": "python",
   "name": "python3"
  },
  "language_info": {
   "codemirror_mode": {
    "name": "ipython",
    "version": 3
   },
   "file_extension": ".py",
   "mimetype": "text/x-python",
   "name": "python",
   "nbconvert_exporter": "python",
   "pygments_lexer": "ipython3",
   "version": "3.6.9"
  }
 },
 "nbformat": 4,
 "nbformat_minor": 5
}
