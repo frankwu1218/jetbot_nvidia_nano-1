{
 "cells": [
  {
   "cell_type": "code",
   "execution_count": 1,
   "id": "05407041-46dc-44b6-a5f9-b32ce5ae4602",
   "metadata": {},
   "outputs": [],
   "source": [
    "#url=\"http://192.168.86.46:8080/stream_viewer?topic=/camera/rgb/image_raw\"\n",
    "url_rgb=\"http://192.168.86.46:8080/stream?topic=/camera/rgb/image_raw\"\n",
    "url=\"http://192.168.86.46:8080/stream?topic=/camera/depth/image\""
   ]
  },
  {
   "cell_type": "code",
   "execution_count": 2,
   "id": "a875913b-48cf-4695-a0ed-99d9e56d8bd1",
   "metadata": {},
   "outputs": [],
   "source": [
    "\n",
    "from jetbot import Camera\n",
    "from IPython.display import display\n",
    "import ipywidgets.widgets as widgets\n",
    "from jetbot import bgr8_to_jpeg\n",
    "\n",
    "camera = Camera.instance(width=224, height=224, usb=1, url=url)\n",
    "camera_rgb = Camera.instance(width=224, height=224, usb=1, url=url_rgb)\n"
   ]
  },
  {
   "cell_type": "code",
   "execution_count": 3,
   "id": "e82f80c8-72b0-4f50-9c90-c586fc840f00",
   "metadata": {},
   "outputs": [
    {
     "data": {
      "text/plain": [
       "<traitlets.traitlets.directional_link at 0x7f259e8dd8>"
      ]
     },
     "execution_count": 3,
     "metadata": {},
     "output_type": "execute_result"
    }
   ],
   "source": [
    "from jetbot import bgr8_to_jpeg\n",
    "import traitlets\n",
    "import ipywidgets\n",
    "\n",
    "#image_w = ipywidgets.Image()\n",
    "image_d = widgets.Image(format='jpeg', width=224, height=224)\n",
    "image_r = widgets.Image(format='jpeg', width=224, height=224)\n",
    "\n",
    "traitlets.dlink((camera, 'value'), (image_d, 'value'), transform=bgr8_to_jpeg)\n",
    "traitlets.dlink((camera_rgb, 'value'), (image_r, 'value'), transform=bgr8_to_jpeg)\n"
   ]
  },
  {
   "cell_type": "code",
   "execution_count": 4,
   "id": "02a45d0a-5b2f-478f-b712-50ff1655a62e",
   "metadata": {},
   "outputs": [
    {
     "data": {
      "application/vnd.jupyter.widget-view+json": {
       "model_id": "5dcf07122d5e4095abcd148060b43afd",
       "version_major": 2,
       "version_minor": 0
      },
      "text/plain": [
       "VBox(children=(HBox(children=(Image(value=b'\\xff\\xd8\\xff\\xe0\\x00\\x10JFIF\\x00\\x01\\x01\\x00\\x00\\x01\\x00\\x01\\x00\\x…"
      ]
     },
     "metadata": {},
     "output_type": "display_data"
    }
   ],
   "source": [
    "import ipywidgets\n",
    "import ipywidgets.widgets as widgets\n",
    "\n",
    "#seg_image = ipywidgets.Image(format='jpeg', width=224, height=224)\n",
    "display(widgets.VBox([\n",
    "    widgets.HBox([image_d, image_r]),\n",
    "]))\n"
   ]
  },
  {
   "cell_type": "code",
   "execution_count": null,
   "id": "27535329-926d-492f-9e9d-c269f7dd4fcc",
   "metadata": {},
   "outputs": [],
   "source": [
    "camera.stop()\n",
    "camera_rgb.stop()"
   ]
  }
 ],
 "metadata": {
  "kernelspec": {
   "display_name": "Python 3",
   "language": "python",
   "name": "python3"
  },
  "language_info": {
   "codemirror_mode": {
    "name": "ipython",
    "version": 3
   },
   "file_extension": ".py",
   "mimetype": "text/x-python",
   "name": "python",
   "nbconvert_exporter": "python",
   "pygments_lexer": "ipython3",
   "version": "3.6.9"
  }
 },
 "nbformat": 4,
 "nbformat_minor": 5
}
