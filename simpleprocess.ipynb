{
 "cells": [
  {
   "cell_type": "code",
   "execution_count": 1,
   "id": "ea4c0d93-ca59-48d4-8dc3-19256c06aa19",
   "metadata": {},
   "outputs": [
    {
     "data": {
      "application/vnd.jupyter.widget-view+json": {
       "model_id": "11ab61c5768b40b3bbe448dd9c274524",
       "version_major": 2,
       "version_minor": 0
      },
      "text/plain": [
       "VBox(children=(HBox(children=(Image(value=b'', format='jpeg', height='300', width='300'), Image(value=b'', for…"
      ]
     },
     "metadata": {},
     "output_type": "display_data"
    }
   ],
   "source": [
    "from jetbot import Camera\n",
    "from IPython.display import display\n",
    "import ipywidgets.widgets as widgets\n",
    "from jetbot import bgr8_to_jpeg\n",
    "\n",
    "camera = Camera.instance(width=300, height=300)\n",
    "\n",
    "\n",
    "\n",
    "image_widget = widgets.Image(format='jpeg', width=300, height=300)\n",
    "corimage_widget = widgets.Image(format='jpeg', width=300, height=300)\n",
    "\n",
    "\n"
   ]
  },
  {
   "cell_type": "code",
   "execution_count": 4,
   "id": "8c880b9e-f4d5-497f-9187-76982a456230",
   "metadata": {},
   "outputs": [
    {
     "data": {
      "application/vnd.jupyter.widget-view+json": {
       "model_id": "dac42106cfa940078783adae48bcc835",
       "version_major": 2,
       "version_minor": 0
      },
      "text/plain": [
       "VBox(children=(HBox(children=(Image(value=b'\\xff\\xd8\\xff\\xe0\\x00\\x10JFIF\\x00\\x01\\x01\\x00\\x00\\x01\\x00\\x01\\x00\\x…"
      ]
     },
     "metadata": {},
     "output_type": "display_data"
    }
   ],
   "source": [
    "import uuid\n",
    "import subprocess\n",
    "from random import randrange, uniform\n",
    "\n",
    "subprocess.call(['mkdir', '-p', 'snapshots'])\n",
    "\n",
    "snapshot_image = widgets.Image(format='jpeg', width=300, height=300)\n",
    "\n",
    "display(widgets.VBox([\n",
    "    widgets.HBox([image_widget, snapshot_image]),\n",
    "]))\n",
    "pic =['dog.jpg', 'turkish.jpg']\n",
    "def execute(change):\n",
    "    image = change['new']\n",
    "    file_path = 'snapshots/' + str(uuid.uuid1()) + '.jpg'\n",
    "    #collision_model(preprocess(image)).detach().cpu()\n",
    "    image_widget.value = bgr8_to_jpeg(image)\n",
    "    irand = randrange(0, 2)\n",
    "\n",
    "    file = open(pic[irand], \"rb\")\n",
    "    snapshot_image.value = file.read()\n",
    "    #snapshot_image.value=    \n",
    "    return\n",
    "        \n",
    "\n",
    "        \n",
    "execute({'new': camera.value})"
   ]
  },
  {
   "cell_type": "code",
   "execution_count": 3,
   "id": "25603539-5502-4085-b04d-a0827e34f1b0",
   "metadata": {},
   "outputs": [],
   "source": [
    "camera.unobserve_all()\n",
    "camera.observe(execute, names='value')\n"
   ]
  },
  {
   "cell_type": "code",
   "execution_count": 11,
   "id": "06f11a69-72a8-4f19-8b4f-84bf9e536c56",
   "metadata": {},
   "outputs": [],
   "source": [
    "import time\n",
    "\n",
    "camera.unobserve_all()\n",
    "time.sleep(1.0)"
   ]
  },
  {
   "cell_type": "code",
   "execution_count": 7,
   "id": "d2f4cf86-da3a-4169-9fa2-95b6827e838d",
   "metadata": {},
   "outputs": [],
   "source": [
    "camera.stop()"
   ]
  },
  {
   "cell_type": "code",
   "execution_count": null,
   "id": "d2166d79-28dc-4087-b310-60d11f92ee49",
   "metadata": {},
   "outputs": [],
   "source": []
  }
 ],
 "metadata": {
  "kernelspec": {
   "display_name": "Python 3",
   "language": "python",
   "name": "python3"
  },
  "language_info": {
   "codemirror_mode": {
    "name": "ipython",
    "version": 3
   },
   "file_extension": ".py",
   "mimetype": "text/x-python",
   "name": "python",
   "nbconvert_exporter": "python",
   "pygments_lexer": "ipython3",
   "version": "3.6.9"
  }
 },
 "nbformat": 4,
 "nbformat_minor": 5
}
