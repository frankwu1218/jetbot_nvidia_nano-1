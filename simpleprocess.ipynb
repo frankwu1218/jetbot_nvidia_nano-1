{
 "cells": [
  {
   "cell_type": "code",
   "execution_count": 8,
   "id": "ea4c0d93-ca59-48d4-8dc3-19256c06aa19",
   "metadata": {},
   "outputs": [
    {
     "data": {
      "application/vnd.jupyter.widget-view+json": {
       "model_id": "74c0f3559ac94fe5b8a6b372b29b1128",
       "version_major": 2,
       "version_minor": 0
      },
      "text/plain": [
       "VBox(children=(HBox(children=(Image(value=b'', format='jpeg', height='300', width='300'), Image(value=b'', for…"
      ]
     },
     "metadata": {},
     "output_type": "display_data"
    }
   ],
   "source": [
    "from jetbot import Camera\n",
    "from IPython.display import display\n",
    "import ipywidgets.widgets as widgets\n",
    "from jetbot import bgr8_to_jpeg\n",
    "\n",
    "camera = Camera.instance(width=300, height=300)\n",
    "\n",
    "\n",
    "\n",
    "image_widget = widgets.Image(format='jpeg', width=300, height=300)\n",
    "corimage_widget = widgets.Image(format='jpeg', width=300, height=300)\n",
    "\n",
    "display(widgets.VBox([\n",
    "    widgets.HBox([image_widget, corimage_widget]),\n",
    "]))\n"
   ]
  },
  {
   "cell_type": "code",
   "execution_count": 14,
   "id": "8c880b9e-f4d5-497f-9187-76982a456230",
   "metadata": {},
   "outputs": [],
   "source": [
    "def execute(change):\n",
    "    image = change['new']\n",
    "   \n",
    "    #collision_model(preprocess(image)).detach().cpu()\n",
    "    image_widget.value = bgr8_to_jpeg(image)\n",
    "        \n",
    "    return\n",
    "        \n",
    "\n",
    "        \n",
    "execute({'new': camera.value})"
   ]
  },
  {
   "cell_type": "code",
   "execution_count": 15,
   "id": "25603539-5502-4085-b04d-a0827e34f1b0",
   "metadata": {},
   "outputs": [],
   "source": [
    "camera.unobserve_all()\n",
    "camera.observe(execute, names='value')\n"
   ]
  },
  {
   "cell_type": "code",
   "execution_count": 11,
   "id": "06f11a69-72a8-4f19-8b4f-84bf9e536c56",
   "metadata": {},
   "outputs": [],
   "source": [
    "import time\n",
    "\n",
    "camera.unobserve_all()\n",
    "time.sleep(1.0)"
   ]
  },
  {
   "cell_type": "code",
   "execution_count": 7,
   "id": "d2f4cf86-da3a-4169-9fa2-95b6827e838d",
   "metadata": {},
   "outputs": [],
   "source": [
    "camera.stop()"
   ]
  },
  {
   "cell_type": "code",
   "execution_count": null,
   "id": "d2166d79-28dc-4087-b310-60d11f92ee49",
   "metadata": {},
   "outputs": [],
   "source": []
  }
 ],
 "metadata": {
  "kernelspec": {
   "display_name": "Python 3",
   "language": "python",
   "name": "python3"
  },
  "language_info": {
   "codemirror_mode": {
    "name": "ipython",
    "version": 3
   },
   "file_extension": ".py",
   "mimetype": "text/x-python",
   "name": "python",
   "nbconvert_exporter": "python",
   "pygments_lexer": "ipython3",
   "version": "3.6.9"
  }
 },
 "nbformat": 4,
 "nbformat_minor": 5
}
