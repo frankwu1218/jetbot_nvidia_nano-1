{
 "cells": [
  {
   "cell_type": "code",
   "execution_count": null,
   "id": "43ca49f1-47b5-4898-b87c-dce5cb84bdeb",
   "metadata": {},
   "outputs": [],
   "source": [
    "#using intel D435 realsense to test image_segmentation\n",
    "#model: segment_trt_fp16.pth\n",
    "#output: [depthframe_image, colorframe_image, seg_image]\n",
    "#or output: [colorframe_image, seg_image]\n",
    "#last updated: 11/10/2021"
   ]
  },
  {
   "cell_type": "code",
   "execution_count": null,
   "id": "d942c59c-f0d1-4059-90a5-69122c49c337",
   "metadata": {},
   "outputs": [],
   "source": [
    "#load the model\n",
    "from torch2trt import TRTModule\n",
    "import torch\n",
    "model_trt = TRTModule()\n",
    "model_trt.load_state_dict(torch.load('segment_trt_fp16.pth'))"
   ]
  },
  {
   "cell_type": "code",
   "execution_count": null,
   "id": "bfdc26ee-a459-4a2f-8487-e4212e31b3ce",
   "metadata": {},
   "outputs": [],
   "source": [
    "#import module for display\n",
    "from IPython.display import display\n",
    "import ipywidgets.widgets as widgets\n",
    "from jetbot import bgr8_to_jpeg\n",
    "import ipywidgets"
   ]
  },
  {
   "cell_type": "code",
   "execution_count": null,
   "id": "ae1881e7-fd8d-4b2c-ad1b-bbd2e9e5d276",
   "metadata": {},
   "outputs": [],
   "source": [
    "#import key function.py\n",
    "from module_D435_segmentation.function_D435_segmentation import *"
   ]
  },
  {
   "cell_type": "code",
   "execution_count": null,
   "id": "07516fdf-3392-4c4b-8624-4d295ae6f70f",
   "metadata": {},
   "outputs": [],
   "source": [
    "#display and create the image boxes\n",
    "seg_image = ipywidgets.Image(format='jpeg', width=224, height=224)\n",
    "#depthframe_image = ipywidgets.Image(format='jpeg', width=224, height=224)\n",
    "colorframe_image = ipywidgets.Image(format='jpeg', width=224, height=224)\n",
    "#display(widgets.VBox([widgets.HBox([depthframe_image, colorframe_image, seg_image]),]))\n",
    "display(widgets.VBox([widgets.HBox([ colorframe_image, seg_image]),]))"
   ]
  },
  {
   "cell_type": "code",
   "execution_count": null,
   "id": "903598b7-6db5-4cd7-a537-c84b0ad4b282",
   "metadata": {},
   "outputs": [],
   "source": [
    "#load images from D435\n",
    "dc = DepthCamera()\n",
    "#ret, depth_frame, color_frame = dc.get_frame()\n",
    "ret, color_frame = dc.get_frame()"
   ]
  },
  {
   "cell_type": "code",
   "execution_count": null,
   "id": "031f09ad-7539-43e7-97fa-5c0c7298539b",
   "metadata": {},
   "outputs": [],
   "source": [
    "#execution for segmentation\n",
    "def execute(change):\n",
    "    image = change['new']\n",
    "    #ret, depth_frame, color_frame = dc.get_frame()\n",
    "    ret, color_frame = dc.get_frame()\n",
    "    output = model_trt(preprocess(color_frame).half())[0].detach().cpu().float().numpy()\n",
    "    mask=decode_segmap(output.argmax(0))\n",
    "    seg_image.value = bgr8_to_jpeg(mask)\n",
    "    \n",
    "    #image of D435 generation\n",
    "    #depthframe_image.value = bgr8_to_jpeg(depth_frame)\n",
    "    colorframe_image.value = bgr8_to_jpeg(color_frame)"
   ]
  },
  {
   "cell_type": "code",
   "execution_count": null,
   "id": "cbd5712b-7ce0-4498-ae35-b0ab56f353ff",
   "metadata": {},
   "outputs": [],
   "source": [
    "#run real time of the images\n",
    "while True:\n",
    "    mask = execute({'new': color_frame})\n"
   ]
  },
  {
   "cell_type": "code",
   "execution_count": null,
   "id": "69f90dd3-74da-478a-b4d5-f4627bf8ec3a",
   "metadata": {},
   "outputs": [],
   "source": [
    "# #numpy.ndarray\n",
    "print(color_frame)\n",
    "# print(color_frame.size)\n",
    "# print(color_frame.shape)\n",
    "# print(color_frame.dtype)\n",
    "# print(color_frame.astype)\n",
    "# print(color_frame.ctypes)\n",
    "# print(color_frame.ndim)"
   ]
  },
  {
   "cell_type": "code",
   "execution_count": null,
   "id": "c97f6ed8-1895-4044-bea0-7b9a3d923de7",
   "metadata": {},
   "outputs": [],
   "source": [
    "\n",
    "# from jetbot import Camera\n",
    "# color_frame.observe(execute, names='value')"
   ]
  },
  {
   "cell_type": "code",
   "execution_count": null,
   "id": "7f5fe776-0c87-4482-bbe6-ef21b1ffe079",
   "metadata": {},
   "outputs": [],
   "source": []
  }
 ],
 "metadata": {
  "kernelspec": {
   "display_name": "Python 3",
   "language": "python",
   "name": "python3"
  },
  "language_info": {
   "codemirror_mode": {
    "name": "ipython",
    "version": 3
   },
   "file_extension": ".py",
   "mimetype": "text/x-python",
   "name": "python",
   "nbconvert_exporter": "python",
   "pygments_lexer": "ipython3",
   "version": "3.6.9"
  }
 },
 "nbformat": 4,
 "nbformat_minor": 5
}
