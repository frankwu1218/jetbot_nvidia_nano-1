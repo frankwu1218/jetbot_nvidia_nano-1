{
 "cells": [
  {
   "cell_type": "code",
   "execution_count": 1,
   "id": "7dad2031-82b0-4da3-a483-d7927ad63f10",
   "metadata": {},
   "outputs": [],
   "source": [
    "import numpy as np\n",
    "from PIL import Image\n",
    "\n",
    "from pycoral.adapters import common\n",
    "from pycoral.adapters import segment\n",
    "from pycoral.utils.edgetpu import make_interpreter\n",
    " \n",
    "interpreter = make_interpreter('deeplabv3_mnv2_pascal_quant_edgetpu.tflite', device=':0')\n",
    "interpreter.allocate_tensors()\n",
    "width, height = common.input_size(interpreter)\n",
    "\n"
   ]
  },
  {
   "cell_type": "code",
   "execution_count": 2,
   "id": "b4a99ec4-a042-4b5f-9b83-395c9f9c888a",
   "metadata": {},
   "outputs": [],
   "source": [
    "from io import BytesIO\n",
    "from pycoral.adapters import common\n",
    "from pycoral.adapters import segment\n",
    "from pycoral.utils.edgetpu import make_interpreter\n",
    "from tpu_seg import label_to_color_image\n",
    "\n",
    "\n",
    "def run_visualization_img(im, interpreter):\n",
    "    \"\"\"Inferences DeepLab model and visualizes result.\"\"\"\n",
    "    img=Image.fromarray(np.uint8(im))\n",
    "    resized_img, _ = common.set_resized_input(\n",
    "        interpreter, img.size, lambda size: img.resize(size, Image.ANTIALIAS))\n",
    "\n",
    "    interpreter.invoke()\n",
    "    result = segment.get_output(interpreter)\n",
    "    if len(result.shape) == 3:\n",
    "    # result = np.argmax(result, axis=-1)\n",
    "        result = np.argmax(result, axis=-1)\n",
    "\n",
    "    new_width, new_height = resized_img.size\n",
    "    result = result[:new_height, :new_width]\n",
    "    mask_img = Image.fromarray(label_to_color_image(result).astype(np.uint8))\n",
    "\n",
    "  #pp=vis_segmentation(resized_im, seg_map)\n",
    "    return mask_img\n",
    "\n",
    "\n",
    "#from PIL import Image\n",
    "#im = Image.open('images.jpeg')\n",
    "#mask_img=run_visualization_img(im, interpreter)"
   ]
  },
  {
   "cell_type": "code",
   "execution_count": 3,
   "id": "d72bd235-30bf-453c-acd0-6fc993d128b3",
   "metadata": {},
   "outputs": [
    {
     "data": {
      "text/plain": [
       "<traitlets.traitlets.directional_link at 0x7f6aba7e80>"
      ]
     },
     "execution_count": 3,
     "metadata": {},
     "output_type": "execute_result"
    }
   ],
   "source": [
    "\n",
    "from jetbot import Camera\n",
    "from IPython.display import display\n",
    "import ipywidgets.widgets as widgets\n",
    "from jetbot import bgr8_to_jpeg\n",
    "\n",
    "camera = Camera.instance(width=224, height=224, usb=0)\n",
    "from jetbot import bgr8_to_jpeg\n",
    "import traitlets\n",
    "import ipywidgets\n",
    "\n",
    "#image_w = ipywidgets.Image()\n",
    "image_w = widgets.Image(format='jpeg', width=224, height=224)\n",
    "\n",
    "traitlets.dlink((camera, 'value'), (image_w, 'value'), transform=bgr8_to_jpeg)\n"
   ]
  },
  {
   "cell_type": "code",
   "execution_count": 4,
   "id": "ec1e3566-7d95-433c-83f7-7a415ff5ad4c",
   "metadata": {},
   "outputs": [
    {
     "data": {
      "application/vnd.jupyter.widget-view+json": {
       "model_id": "b6a1f7f69a4749dcb200761de129a6ce",
       "version_major": 2,
       "version_minor": 0
      },
      "text/plain": [
       "VBox(children=(HBox(children=(Image(value=b'\\xff\\xd8\\xff\\xe0\\x00\\x10JFIF\\x00\\x01\\x01\\x00\\x00\\x01\\x00\\x01\\x00\\x…"
      ]
     },
     "metadata": {},
     "output_type": "display_data"
    }
   ],
   "source": [
    "seg_image = ipywidgets.Image(format='jpeg', width=224, height=224)\n",
    "display(widgets.VBox([\n",
    "    widgets.HBox([image_w, seg_image]),\n",
    "]))"
   ]
  },
  {
   "cell_type": "code",
   "execution_count": 5,
   "id": "403972c0-6076-4a6e-8583-f8380f380b75",
   "metadata": {},
   "outputs": [],
   "source": [
    "import io\n",
    "\n",
    "def execute(change):\n",
    "    image = change['new']\n",
    "    mask =run_visualization_img(camera.value, interpreter)\n",
    "\n",
    "    buf = io.BytesIO()\n",
    "    mask.save(buf, format='JPEG')\n",
    "    seg_image.value = buf.getvalue()\n",
    "\n",
    "    #mask = 1.0 * (output.argmax(0) == 15)\n",
    "    #m = mask[:, :, None]\n",
    "    #print(m.shape)\n",
    "    #print(image.shape)\n",
    " #   seg_image.value = bgr8_to_jpeg(mask[:, :, None] * image)\n",
    "   # seg_image.value = bgr8_to_jpeg(mask)\n",
    "    \n"
   ]
  },
  {
   "cell_type": "code",
   "execution_count": 6,
   "id": "ab69e2f4-6b06-4c00-aedf-00870b2f226e",
   "metadata": {},
   "outputs": [],
   "source": [
    "mask = execute({'new': camera.value})\n",
    "camera.observe(execute, names='value')"
   ]
  },
  {
   "cell_type": "code",
   "execution_count": null,
   "id": "0936530a-d9eb-4e6e-bdf6-47b0a3b40ca9",
   "metadata": {},
   "outputs": [],
   "source": [
    "camera.stop()\n",
    "camera.unobserve(execute, names='value')\n"
   ]
  },
  {
   "cell_type": "code",
   "execution_count": null,
   "id": "c083757f-1ebc-4299-86f3-819dcfa461e7",
   "metadata": {},
   "outputs": [],
   "source": []
  }
 ],
 "metadata": {
  "kernelspec": {
   "display_name": "Python 3",
   "language": "python",
   "name": "python3"
  },
  "language_info": {
   "codemirror_mode": {
    "name": "ipython",
    "version": 3
   },
   "file_extension": ".py",
   "mimetype": "text/x-python",
   "name": "python",
   "nbconvert_exporter": "python",
   "pygments_lexer": "ipython3",
   "version": "3.6.9"
  }
 },
 "nbformat": 4,
 "nbformat_minor": 5
}
