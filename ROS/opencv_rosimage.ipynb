{
 "cells": [
  {
   "cell_type": "code",
   "execution_count": 1,
   "id": "9f7d53e4-c02d-44c9-a884-0b58dc1d928c",
   "metadata": {},
   "outputs": [],
   "source": [
    "import sys\n",
    "sys.path.append('/opt/ros/melodic/lib/python2.7/dist-packages/')"
   ]
  },
  {
   "cell_type": "code",
   "execution_count": 2,
   "id": "d212e3af-776a-4eb2-a53e-e4e2320a6f80",
   "metadata": {},
   "outputs": [
    {
     "name": "stderr",
     "output_type": "stream",
     "text": [
      "WARNING: cannot load logging configuration file, logging is disabled\n"
     ]
    }
   ],
   "source": [
    "import rospy\n",
    "#from geometry_msgs.msg import Vector3\n",
    "\n",
    "\n",
    "rospy.init_node('image')"
   ]
  },
  {
   "cell_type": "code",
   "execution_count": 3,
   "id": "730c1c64-9450-43ba-8b3a-01f93766f4ff",
   "metadata": {},
   "outputs": [],
   "source": [
    "import jupyros \n"
   ]
  },
  {
   "cell_type": "code",
   "execution_count": 4,
   "id": "dcc3c1a9-ac57-4434-a76d-654976bb1d33",
   "metadata": {},
   "outputs": [],
   "source": [
    "msgim=[];\n",
    "def imagecallback(msg):\n",
    "    global msgim\n",
    "    msgim=msg\n"
   ]
  },
  {
   "cell_type": "code",
   "execution_count": 5,
   "id": "a95ea1ca-4b1d-4580-b422-0b3d640159aa",
   "metadata": {},
   "outputs": [
    {
     "data": {
      "application/vnd.jupyter.widget-view+json": {
       "model_id": "a54070dd882e4ee3a4ab8ea3be81aebf",
       "version_major": 2,
       "version_minor": 0
      },
      "text/plain": [
       "VBox(children=(HBox(children=(Button(description='Stop', style=ButtonStyle()),)), Output(layout=Layout(border=…"
      ]
     },
     "metadata": {},
     "output_type": "display_data"
    }
   ],
   "source": [
    "from sensor_msgs.msg import Image\n",
    "jupyros.subscribe('/camera/rgb/image_raw', Image, imagecallback)"
   ]
  },
  {
   "cell_type": "code",
   "execution_count": 6,
   "id": "aa0c755b-ae26-449f-a932-9e84c58a0246",
   "metadata": {},
   "outputs": [
    {
     "data": {
      "application/vnd.jupyter.widget-view+json": {
       "model_id": "35c4d74f0bce46bbbf61c11424a15ca2",
       "version_major": 2,
       "version_minor": 0
      },
      "text/plain": [
       "VBox(children=(HBox(children=(Image(value=b'', format='jpeg', height='224', width='224'),)),))"
      ]
     },
     "metadata": {},
     "output_type": "display_data"
    }
   ],
   "source": [
    "from IPython.display import display\n",
    "import ipywidgets.widgets as widgets\n",
    "image_d = widgets.Image(format='jpeg', width=224, height=224)\n",
    "display(widgets.VBox([\n",
    "    widgets.HBox([image_d]),\n",
    "]))"
   ]
  },
  {
   "cell_type": "code",
   "execution_count": 7,
   "id": "2a6052ce-941f-4866-8ada-7297257140fe",
   "metadata": {},
   "outputs": [],
   "source": [
    "from np_images import rgb_from_imgmsg, rgbbyte_from_imgmsg\n",
    "\n",
    "def execute(change):\n",
    "    image = change['new']\n",
    "    image_d.value=rgbbyte_from_imgmsg(msgim)\n",
    "    "
   ]
  },
  {
   "cell_type": "code",
   "execution_count": null,
   "id": "e322c603-fd7f-4ee4-aa1b-8911a793b780",
   "metadata": {},
   "outputs": [],
   "source": [
    "execute({'new': msgim})\n",
    "image_d.observe(execute, names='value')"
   ]
  }
 ],
 "metadata": {
  "kernelspec": {
   "display_name": "Python 3",
   "language": "python",
   "name": "python3"
  },
  "language_info": {
   "codemirror_mode": {
    "name": "ipython",
    "version": 3
   },
   "file_extension": ".py",
   "mimetype": "text/x-python",
   "name": "python",
   "nbconvert_exporter": "python",
   "pygments_lexer": "ipython3",
   "version": "3.6.9"
  },
  "toc-showmarkdowntxt": true
 },
 "nbformat": 4,
 "nbformat_minor": 5
}
